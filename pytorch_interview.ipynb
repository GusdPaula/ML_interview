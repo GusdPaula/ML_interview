{
  "nbformat": 4,
  "nbformat_minor": 0,
  "metadata": {
    "colab": {
      "provenance": [],
      "gpuType": "T4",
      "authorship_tag": "ABX9TyM9YKnzYRCIpew44fWNHq84",
      "include_colab_link": true
    },
    "kernelspec": {
      "name": "python3",
      "display_name": "Python 3"
    },
    "language_info": {
      "name": "python"
    },
    "accelerator": "GPU"
  },
  "cells": [
    {
      "cell_type": "markdown",
      "metadata": {
        "id": "view-in-github",
        "colab_type": "text"
      },
      "source": [
        "<a href=\"https://colab.research.google.com/github/GusdPaula/ML_interview/blob/main/pytorch_interview.ipynb\" target=\"_parent\"><img src=\"https://colab.research.google.com/assets/colab-badge.svg\" alt=\"Open In Colab\"/></a>"
      ]
    },
    {
      "cell_type": "code",
      "source": [
        "import pandas as pd\n",
        "import torch.utils.data as data_utils"
      ],
      "metadata": {
        "id": "92FbkCQp-7VF"
      },
      "execution_count": 1,
      "outputs": []
    },
    {
      "cell_type": "code",
      "source": [
        "from torch import nn\n",
        "import torch\n",
        "import torch.nn.functional as F\n",
        "from sklearn.metrics import classification_report"
      ],
      "metadata": {
        "id": "EG8Dm1PuAhUY"
      },
      "execution_count": 15,
      "outputs": []
    },
    {
      "cell_type": "code",
      "source": [
        "device = \"cuda\" if torch.cuda.is_available() else \"cpu\"\n"
      ],
      "metadata": {
        "id": "G_xHTaiODi92"
      },
      "execution_count": 3,
      "outputs": []
    },
    {
      "cell_type": "code",
      "source": [
        "path_df = \"/content/plant_disease_dataset.csv\"\n",
        "df = pd.read_csv(path_df)\n",
        "df.head(5)"
      ],
      "metadata": {
        "colab": {
          "base_uri": "https://localhost:8080/",
          "height": 206
        },
        "id": "e7oY6J7L_Lgb",
        "outputId": "2818f7ca-2312-4e11-f31a-cf3d140ddb34"
      },
      "execution_count": 4,
      "outputs": [
        {
          "output_type": "execute_result",
          "data": {
            "text/plain": [
              "   temperature   humidity   rainfall   soil_pH  disease_present\n",
              "0    27.483571  33.215053   0.572758  4.975875                1\n",
              "1    24.308678  36.945005  42.522346  8.165266                0\n",
              "2    28.238443  34.026189  16.095303  6.316734                1\n",
              "3    32.615149  41.104180  20.311015  6.164949                0\n",
              "4    23.829233  51.971785  11.851323  8.482468                0"
            ],
            "text/html": [
              "\n",
              "  <div id=\"df-75d0d4bb-480d-4ba4-9eb0-8700b64490b1\" class=\"colab-df-container\">\n",
              "    <div>\n",
              "<style scoped>\n",
              "    .dataframe tbody tr th:only-of-type {\n",
              "        vertical-align: middle;\n",
              "    }\n",
              "\n",
              "    .dataframe tbody tr th {\n",
              "        vertical-align: top;\n",
              "    }\n",
              "\n",
              "    .dataframe thead th {\n",
              "        text-align: right;\n",
              "    }\n",
              "</style>\n",
              "<table border=\"1\" class=\"dataframe\">\n",
              "  <thead>\n",
              "    <tr style=\"text-align: right;\">\n",
              "      <th></th>\n",
              "      <th>temperature</th>\n",
              "      <th>humidity</th>\n",
              "      <th>rainfall</th>\n",
              "      <th>soil_pH</th>\n",
              "      <th>disease_present</th>\n",
              "    </tr>\n",
              "  </thead>\n",
              "  <tbody>\n",
              "    <tr>\n",
              "      <th>0</th>\n",
              "      <td>27.483571</td>\n",
              "      <td>33.215053</td>\n",
              "      <td>0.572758</td>\n",
              "      <td>4.975875</td>\n",
              "      <td>1</td>\n",
              "    </tr>\n",
              "    <tr>\n",
              "      <th>1</th>\n",
              "      <td>24.308678</td>\n",
              "      <td>36.945005</td>\n",
              "      <td>42.522346</td>\n",
              "      <td>8.165266</td>\n",
              "      <td>0</td>\n",
              "    </tr>\n",
              "    <tr>\n",
              "      <th>2</th>\n",
              "      <td>28.238443</td>\n",
              "      <td>34.026189</td>\n",
              "      <td>16.095303</td>\n",
              "      <td>6.316734</td>\n",
              "      <td>1</td>\n",
              "    </tr>\n",
              "    <tr>\n",
              "      <th>3</th>\n",
              "      <td>32.615149</td>\n",
              "      <td>41.104180</td>\n",
              "      <td>20.311015</td>\n",
              "      <td>6.164949</td>\n",
              "      <td>0</td>\n",
              "    </tr>\n",
              "    <tr>\n",
              "      <th>4</th>\n",
              "      <td>23.829233</td>\n",
              "      <td>51.971785</td>\n",
              "      <td>11.851323</td>\n",
              "      <td>8.482468</td>\n",
              "      <td>0</td>\n",
              "    </tr>\n",
              "  </tbody>\n",
              "</table>\n",
              "</div>\n",
              "    <div class=\"colab-df-buttons\">\n",
              "\n",
              "  <div class=\"colab-df-container\">\n",
              "    <button class=\"colab-df-convert\" onclick=\"convertToInteractive('df-75d0d4bb-480d-4ba4-9eb0-8700b64490b1')\"\n",
              "            title=\"Convert this dataframe to an interactive table.\"\n",
              "            style=\"display:none;\">\n",
              "\n",
              "  <svg xmlns=\"http://www.w3.org/2000/svg\" height=\"24px\" viewBox=\"0 -960 960 960\">\n",
              "    <path d=\"M120-120v-720h720v720H120Zm60-500h600v-160H180v160Zm220 220h160v-160H400v160Zm0 220h160v-160H400v160ZM180-400h160v-160H180v160Zm440 0h160v-160H620v160ZM180-180h160v-160H180v160Zm440 0h160v-160H620v160Z\"/>\n",
              "  </svg>\n",
              "    </button>\n",
              "\n",
              "  <style>\n",
              "    .colab-df-container {\n",
              "      display:flex;\n",
              "      gap: 12px;\n",
              "    }\n",
              "\n",
              "    .colab-df-convert {\n",
              "      background-color: #E8F0FE;\n",
              "      border: none;\n",
              "      border-radius: 50%;\n",
              "      cursor: pointer;\n",
              "      display: none;\n",
              "      fill: #1967D2;\n",
              "      height: 32px;\n",
              "      padding: 0 0 0 0;\n",
              "      width: 32px;\n",
              "    }\n",
              "\n",
              "    .colab-df-convert:hover {\n",
              "      background-color: #E2EBFA;\n",
              "      box-shadow: 0px 1px 2px rgba(60, 64, 67, 0.3), 0px 1px 3px 1px rgba(60, 64, 67, 0.15);\n",
              "      fill: #174EA6;\n",
              "    }\n",
              "\n",
              "    .colab-df-buttons div {\n",
              "      margin-bottom: 4px;\n",
              "    }\n",
              "\n",
              "    [theme=dark] .colab-df-convert {\n",
              "      background-color: #3B4455;\n",
              "      fill: #D2E3FC;\n",
              "    }\n",
              "\n",
              "    [theme=dark] .colab-df-convert:hover {\n",
              "      background-color: #434B5C;\n",
              "      box-shadow: 0px 1px 3px 1px rgba(0, 0, 0, 0.15);\n",
              "      filter: drop-shadow(0px 1px 2px rgba(0, 0, 0, 0.3));\n",
              "      fill: #FFFFFF;\n",
              "    }\n",
              "  </style>\n",
              "\n",
              "    <script>\n",
              "      const buttonEl =\n",
              "        document.querySelector('#df-75d0d4bb-480d-4ba4-9eb0-8700b64490b1 button.colab-df-convert');\n",
              "      buttonEl.style.display =\n",
              "        google.colab.kernel.accessAllowed ? 'block' : 'none';\n",
              "\n",
              "      async function convertToInteractive(key) {\n",
              "        const element = document.querySelector('#df-75d0d4bb-480d-4ba4-9eb0-8700b64490b1');\n",
              "        const dataTable =\n",
              "          await google.colab.kernel.invokeFunction('convertToInteractive',\n",
              "                                                    [key], {});\n",
              "        if (!dataTable) return;\n",
              "\n",
              "        const docLinkHtml = 'Like what you see? Visit the ' +\n",
              "          '<a target=\"_blank\" href=https://colab.research.google.com/notebooks/data_table.ipynb>data table notebook</a>'\n",
              "          + ' to learn more about interactive tables.';\n",
              "        element.innerHTML = '';\n",
              "        dataTable['output_type'] = 'display_data';\n",
              "        await google.colab.output.renderOutput(dataTable, element);\n",
              "        const docLink = document.createElement('div');\n",
              "        docLink.innerHTML = docLinkHtml;\n",
              "        element.appendChild(docLink);\n",
              "      }\n",
              "    </script>\n",
              "  </div>\n",
              "\n",
              "\n",
              "    <div id=\"df-42fe656d-22a9-4897-ab39-1d86d9780087\">\n",
              "      <button class=\"colab-df-quickchart\" onclick=\"quickchart('df-42fe656d-22a9-4897-ab39-1d86d9780087')\"\n",
              "                title=\"Suggest charts\"\n",
              "                style=\"display:none;\">\n",
              "\n",
              "<svg xmlns=\"http://www.w3.org/2000/svg\" height=\"24px\"viewBox=\"0 0 24 24\"\n",
              "     width=\"24px\">\n",
              "    <g>\n",
              "        <path d=\"M19 3H5c-1.1 0-2 .9-2 2v14c0 1.1.9 2 2 2h14c1.1 0 2-.9 2-2V5c0-1.1-.9-2-2-2zM9 17H7v-7h2v7zm4 0h-2V7h2v10zm4 0h-2v-4h2v4z\"/>\n",
              "    </g>\n",
              "</svg>\n",
              "      </button>\n",
              "\n",
              "<style>\n",
              "  .colab-df-quickchart {\n",
              "      --bg-color: #E8F0FE;\n",
              "      --fill-color: #1967D2;\n",
              "      --hover-bg-color: #E2EBFA;\n",
              "      --hover-fill-color: #174EA6;\n",
              "      --disabled-fill-color: #AAA;\n",
              "      --disabled-bg-color: #DDD;\n",
              "  }\n",
              "\n",
              "  [theme=dark] .colab-df-quickchart {\n",
              "      --bg-color: #3B4455;\n",
              "      --fill-color: #D2E3FC;\n",
              "      --hover-bg-color: #434B5C;\n",
              "      --hover-fill-color: #FFFFFF;\n",
              "      --disabled-bg-color: #3B4455;\n",
              "      --disabled-fill-color: #666;\n",
              "  }\n",
              "\n",
              "  .colab-df-quickchart {\n",
              "    background-color: var(--bg-color);\n",
              "    border: none;\n",
              "    border-radius: 50%;\n",
              "    cursor: pointer;\n",
              "    display: none;\n",
              "    fill: var(--fill-color);\n",
              "    height: 32px;\n",
              "    padding: 0;\n",
              "    width: 32px;\n",
              "  }\n",
              "\n",
              "  .colab-df-quickchart:hover {\n",
              "    background-color: var(--hover-bg-color);\n",
              "    box-shadow: 0 1px 2px rgba(60, 64, 67, 0.3), 0 1px 3px 1px rgba(60, 64, 67, 0.15);\n",
              "    fill: var(--button-hover-fill-color);\n",
              "  }\n",
              "\n",
              "  .colab-df-quickchart-complete:disabled,\n",
              "  .colab-df-quickchart-complete:disabled:hover {\n",
              "    background-color: var(--disabled-bg-color);\n",
              "    fill: var(--disabled-fill-color);\n",
              "    box-shadow: none;\n",
              "  }\n",
              "\n",
              "  .colab-df-spinner {\n",
              "    border: 2px solid var(--fill-color);\n",
              "    border-color: transparent;\n",
              "    border-bottom-color: var(--fill-color);\n",
              "    animation:\n",
              "      spin 1s steps(1) infinite;\n",
              "  }\n",
              "\n",
              "  @keyframes spin {\n",
              "    0% {\n",
              "      border-color: transparent;\n",
              "      border-bottom-color: var(--fill-color);\n",
              "      border-left-color: var(--fill-color);\n",
              "    }\n",
              "    20% {\n",
              "      border-color: transparent;\n",
              "      border-left-color: var(--fill-color);\n",
              "      border-top-color: var(--fill-color);\n",
              "    }\n",
              "    30% {\n",
              "      border-color: transparent;\n",
              "      border-left-color: var(--fill-color);\n",
              "      border-top-color: var(--fill-color);\n",
              "      border-right-color: var(--fill-color);\n",
              "    }\n",
              "    40% {\n",
              "      border-color: transparent;\n",
              "      border-right-color: var(--fill-color);\n",
              "      border-top-color: var(--fill-color);\n",
              "    }\n",
              "    60% {\n",
              "      border-color: transparent;\n",
              "      border-right-color: var(--fill-color);\n",
              "    }\n",
              "    80% {\n",
              "      border-color: transparent;\n",
              "      border-right-color: var(--fill-color);\n",
              "      border-bottom-color: var(--fill-color);\n",
              "    }\n",
              "    90% {\n",
              "      border-color: transparent;\n",
              "      border-bottom-color: var(--fill-color);\n",
              "    }\n",
              "  }\n",
              "</style>\n",
              "\n",
              "      <script>\n",
              "        async function quickchart(key) {\n",
              "          const quickchartButtonEl =\n",
              "            document.querySelector('#' + key + ' button');\n",
              "          quickchartButtonEl.disabled = true;  // To prevent multiple clicks.\n",
              "          quickchartButtonEl.classList.add('colab-df-spinner');\n",
              "          try {\n",
              "            const charts = await google.colab.kernel.invokeFunction(\n",
              "                'suggestCharts', [key], {});\n",
              "          } catch (error) {\n",
              "            console.error('Error during call to suggestCharts:', error);\n",
              "          }\n",
              "          quickchartButtonEl.classList.remove('colab-df-spinner');\n",
              "          quickchartButtonEl.classList.add('colab-df-quickchart-complete');\n",
              "        }\n",
              "        (() => {\n",
              "          let quickchartButtonEl =\n",
              "            document.querySelector('#df-42fe656d-22a9-4897-ab39-1d86d9780087 button');\n",
              "          quickchartButtonEl.style.display =\n",
              "            google.colab.kernel.accessAllowed ? 'block' : 'none';\n",
              "        })();\n",
              "      </script>\n",
              "    </div>\n",
              "\n",
              "    </div>\n",
              "  </div>\n"
            ],
            "application/vnd.google.colaboratory.intrinsic+json": {
              "type": "dataframe",
              "variable_name": "df",
              "summary": "{\n  \"name\": \"df\",\n  \"rows\": 10000,\n  \"fields\": [\n    {\n      \"column\": \"temperature\",\n      \"properties\": {\n        \"dtype\": \"number\",\n        \"std\": 5.8138408314833585,\n        \"min\": 5.387998741908287,\n        \"max\": 56.68649464251189,\n        \"num_unique_values\": 10000,\n        \"samples\": [\n          38.189408761301,\n          19.81466963215002,\n          23.253416019409013\n        ],\n        \"semantic_type\": \"\",\n        \"description\": \"\"\n      }\n    },\n    {\n      \"column\": \"humidity\",\n      \"properties\": {\n        \"dtype\": \"number\",\n        \"std\": 22.679976592657276,\n        \"min\": 6.244208998223996,\n        \"max\": 102.39542125512878,\n        \"num_unique_values\": 9501,\n        \"samples\": [\n          85.98130494153438,\n          41.66018847874573,\n          80.65075530992792\n        ],\n        \"semantic_type\": \"\",\n        \"description\": \"\"\n      }\n    },\n    {\n      \"column\": \"rainfall\",\n      \"properties\": {\n        \"dtype\": \"number\",\n        \"std\": 9.852130222573216,\n        \"min\": 5.5366910654394576e-05,\n        \"max\": 84.65416123893489,\n        \"num_unique_values\": 10000,\n        \"samples\": [\n          1.8217970659786904,\n          8.650503909271968,\n          8.218360676509365\n        ],\n        \"semantic_type\": \"\",\n        \"description\": \"\"\n      }\n    },\n    {\n      \"column\": \"soil_pH\",\n      \"properties\": {\n        \"dtype\": \"number\",\n        \"std\": 1.3024647380243861,\n        \"min\": 4.000075313160706,\n        \"max\": 8.499874663155921,\n        \"num_unique_values\": 10000,\n        \"samples\": [\n          5.189182759441552,\n          5.983635882348295,\n          4.022304663366455\n        ],\n        \"semantic_type\": \"\",\n        \"description\": \"\"\n      }\n    },\n    {\n      \"column\": \"disease_present\",\n      \"properties\": {\n        \"dtype\": \"number\",\n        \"std\": 0,\n        \"min\": 0,\n        \"max\": 1,\n        \"num_unique_values\": 2,\n        \"samples\": [\n          0,\n          1\n        ],\n        \"semantic_type\": \"\",\n        \"description\": \"\"\n      }\n    }\n  ]\n}"
            }
          },
          "metadata": {},
          "execution_count": 4
        }
      ]
    },
    {
      "cell_type": "code",
      "source": [
        "df.isnull().any().sum()"
      ],
      "metadata": {
        "colab": {
          "base_uri": "https://localhost:8080/"
        },
        "id": "RtX2CfTg_wvl",
        "outputId": "9729919c-a4be-4288-a0e5-4b8b0fecd63d"
      },
      "execution_count": 5,
      "outputs": [
        {
          "output_type": "execute_result",
          "data": {
            "text/plain": [
              "np.int64(0)"
            ]
          },
          "metadata": {},
          "execution_count": 5
        }
      ]
    },
    {
      "cell_type": "code",
      "source": [
        "df.info()"
      ],
      "metadata": {
        "colab": {
          "base_uri": "https://localhost:8080/"
        },
        "id": "B3DycwjH_3v7",
        "outputId": "be58d980-2a2d-48c8-d4ac-c708c13daef2"
      },
      "execution_count": 6,
      "outputs": [
        {
          "output_type": "stream",
          "name": "stdout",
          "text": [
            "<class 'pandas.core.frame.DataFrame'>\n",
            "RangeIndex: 10000 entries, 0 to 9999\n",
            "Data columns (total 5 columns):\n",
            " #   Column           Non-Null Count  Dtype  \n",
            "---  ------           --------------  -----  \n",
            " 0   temperature      10000 non-null  float64\n",
            " 1   humidity         10000 non-null  float64\n",
            " 2   rainfall         10000 non-null  float64\n",
            " 3   soil_pH          10000 non-null  float64\n",
            " 4   disease_present  10000 non-null  int64  \n",
            "dtypes: float64(4), int64(1)\n",
            "memory usage: 390.8 KB\n"
          ]
        }
      ]
    },
    {
      "cell_type": "code",
      "source": [
        "df.describe()"
      ],
      "metadata": {
        "colab": {
          "base_uri": "https://localhost:8080/",
          "height": 300
        },
        "id": "wDezr3t3_-W3",
        "outputId": "267e7a31-158d-4e60-d5c6-7a31d92984c9"
      },
      "execution_count": 7,
      "outputs": [
        {
          "output_type": "execute_result",
          "data": {
            "text/plain": [
              "        temperature      humidity      rainfall       soil_pH  disease_present\n",
              "count  10000.000000  10000.000000  10000.000000  10000.000000     10000.000000\n",
              "mean      25.612191     62.119300      9.807522      6.245855         0.241000\n",
              "std        5.813841     22.679977      9.852130      1.302465         0.427712\n",
              "min        5.387999      6.244209      0.000055      4.000075         0.000000\n",
              "25%       21.815610     40.772925      2.812822      5.122970         0.000000\n",
              "50%       25.293238     72.211752      6.864898      6.232188         0.000000\n",
              "75%       28.916048     81.032999     13.442871      7.386377         0.000000\n",
              "max       56.686495    102.395421     84.654161      8.499875         1.000000"
            ],
            "text/html": [
              "\n",
              "  <div id=\"df-3e62454b-3d65-41a6-acd8-25b48d078a62\" class=\"colab-df-container\">\n",
              "    <div>\n",
              "<style scoped>\n",
              "    .dataframe tbody tr th:only-of-type {\n",
              "        vertical-align: middle;\n",
              "    }\n",
              "\n",
              "    .dataframe tbody tr th {\n",
              "        vertical-align: top;\n",
              "    }\n",
              "\n",
              "    .dataframe thead th {\n",
              "        text-align: right;\n",
              "    }\n",
              "</style>\n",
              "<table border=\"1\" class=\"dataframe\">\n",
              "  <thead>\n",
              "    <tr style=\"text-align: right;\">\n",
              "      <th></th>\n",
              "      <th>temperature</th>\n",
              "      <th>humidity</th>\n",
              "      <th>rainfall</th>\n",
              "      <th>soil_pH</th>\n",
              "      <th>disease_present</th>\n",
              "    </tr>\n",
              "  </thead>\n",
              "  <tbody>\n",
              "    <tr>\n",
              "      <th>count</th>\n",
              "      <td>10000.000000</td>\n",
              "      <td>10000.000000</td>\n",
              "      <td>10000.000000</td>\n",
              "      <td>10000.000000</td>\n",
              "      <td>10000.000000</td>\n",
              "    </tr>\n",
              "    <tr>\n",
              "      <th>mean</th>\n",
              "      <td>25.612191</td>\n",
              "      <td>62.119300</td>\n",
              "      <td>9.807522</td>\n",
              "      <td>6.245855</td>\n",
              "      <td>0.241000</td>\n",
              "    </tr>\n",
              "    <tr>\n",
              "      <th>std</th>\n",
              "      <td>5.813841</td>\n",
              "      <td>22.679977</td>\n",
              "      <td>9.852130</td>\n",
              "      <td>1.302465</td>\n",
              "      <td>0.427712</td>\n",
              "    </tr>\n",
              "    <tr>\n",
              "      <th>min</th>\n",
              "      <td>5.387999</td>\n",
              "      <td>6.244209</td>\n",
              "      <td>0.000055</td>\n",
              "      <td>4.000075</td>\n",
              "      <td>0.000000</td>\n",
              "    </tr>\n",
              "    <tr>\n",
              "      <th>25%</th>\n",
              "      <td>21.815610</td>\n",
              "      <td>40.772925</td>\n",
              "      <td>2.812822</td>\n",
              "      <td>5.122970</td>\n",
              "      <td>0.000000</td>\n",
              "    </tr>\n",
              "    <tr>\n",
              "      <th>50%</th>\n",
              "      <td>25.293238</td>\n",
              "      <td>72.211752</td>\n",
              "      <td>6.864898</td>\n",
              "      <td>6.232188</td>\n",
              "      <td>0.000000</td>\n",
              "    </tr>\n",
              "    <tr>\n",
              "      <th>75%</th>\n",
              "      <td>28.916048</td>\n",
              "      <td>81.032999</td>\n",
              "      <td>13.442871</td>\n",
              "      <td>7.386377</td>\n",
              "      <td>0.000000</td>\n",
              "    </tr>\n",
              "    <tr>\n",
              "      <th>max</th>\n",
              "      <td>56.686495</td>\n",
              "      <td>102.395421</td>\n",
              "      <td>84.654161</td>\n",
              "      <td>8.499875</td>\n",
              "      <td>1.000000</td>\n",
              "    </tr>\n",
              "  </tbody>\n",
              "</table>\n",
              "</div>\n",
              "    <div class=\"colab-df-buttons\">\n",
              "\n",
              "  <div class=\"colab-df-container\">\n",
              "    <button class=\"colab-df-convert\" onclick=\"convertToInteractive('df-3e62454b-3d65-41a6-acd8-25b48d078a62')\"\n",
              "            title=\"Convert this dataframe to an interactive table.\"\n",
              "            style=\"display:none;\">\n",
              "\n",
              "  <svg xmlns=\"http://www.w3.org/2000/svg\" height=\"24px\" viewBox=\"0 -960 960 960\">\n",
              "    <path d=\"M120-120v-720h720v720H120Zm60-500h600v-160H180v160Zm220 220h160v-160H400v160Zm0 220h160v-160H400v160ZM180-400h160v-160H180v160Zm440 0h160v-160H620v160ZM180-180h160v-160H180v160Zm440 0h160v-160H620v160Z\"/>\n",
              "  </svg>\n",
              "    </button>\n",
              "\n",
              "  <style>\n",
              "    .colab-df-container {\n",
              "      display:flex;\n",
              "      gap: 12px;\n",
              "    }\n",
              "\n",
              "    .colab-df-convert {\n",
              "      background-color: #E8F0FE;\n",
              "      border: none;\n",
              "      border-radius: 50%;\n",
              "      cursor: pointer;\n",
              "      display: none;\n",
              "      fill: #1967D2;\n",
              "      height: 32px;\n",
              "      padding: 0 0 0 0;\n",
              "      width: 32px;\n",
              "    }\n",
              "\n",
              "    .colab-df-convert:hover {\n",
              "      background-color: #E2EBFA;\n",
              "      box-shadow: 0px 1px 2px rgba(60, 64, 67, 0.3), 0px 1px 3px 1px rgba(60, 64, 67, 0.15);\n",
              "      fill: #174EA6;\n",
              "    }\n",
              "\n",
              "    .colab-df-buttons div {\n",
              "      margin-bottom: 4px;\n",
              "    }\n",
              "\n",
              "    [theme=dark] .colab-df-convert {\n",
              "      background-color: #3B4455;\n",
              "      fill: #D2E3FC;\n",
              "    }\n",
              "\n",
              "    [theme=dark] .colab-df-convert:hover {\n",
              "      background-color: #434B5C;\n",
              "      box-shadow: 0px 1px 3px 1px rgba(0, 0, 0, 0.15);\n",
              "      filter: drop-shadow(0px 1px 2px rgba(0, 0, 0, 0.3));\n",
              "      fill: #FFFFFF;\n",
              "    }\n",
              "  </style>\n",
              "\n",
              "    <script>\n",
              "      const buttonEl =\n",
              "        document.querySelector('#df-3e62454b-3d65-41a6-acd8-25b48d078a62 button.colab-df-convert');\n",
              "      buttonEl.style.display =\n",
              "        google.colab.kernel.accessAllowed ? 'block' : 'none';\n",
              "\n",
              "      async function convertToInteractive(key) {\n",
              "        const element = document.querySelector('#df-3e62454b-3d65-41a6-acd8-25b48d078a62');\n",
              "        const dataTable =\n",
              "          await google.colab.kernel.invokeFunction('convertToInteractive',\n",
              "                                                    [key], {});\n",
              "        if (!dataTable) return;\n",
              "\n",
              "        const docLinkHtml = 'Like what you see? Visit the ' +\n",
              "          '<a target=\"_blank\" href=https://colab.research.google.com/notebooks/data_table.ipynb>data table notebook</a>'\n",
              "          + ' to learn more about interactive tables.';\n",
              "        element.innerHTML = '';\n",
              "        dataTable['output_type'] = 'display_data';\n",
              "        await google.colab.output.renderOutput(dataTable, element);\n",
              "        const docLink = document.createElement('div');\n",
              "        docLink.innerHTML = docLinkHtml;\n",
              "        element.appendChild(docLink);\n",
              "      }\n",
              "    </script>\n",
              "  </div>\n",
              "\n",
              "\n",
              "    <div id=\"df-fa337c19-10ca-44c6-881d-537158574e28\">\n",
              "      <button class=\"colab-df-quickchart\" onclick=\"quickchart('df-fa337c19-10ca-44c6-881d-537158574e28')\"\n",
              "                title=\"Suggest charts\"\n",
              "                style=\"display:none;\">\n",
              "\n",
              "<svg xmlns=\"http://www.w3.org/2000/svg\" height=\"24px\"viewBox=\"0 0 24 24\"\n",
              "     width=\"24px\">\n",
              "    <g>\n",
              "        <path d=\"M19 3H5c-1.1 0-2 .9-2 2v14c0 1.1.9 2 2 2h14c1.1 0 2-.9 2-2V5c0-1.1-.9-2-2-2zM9 17H7v-7h2v7zm4 0h-2V7h2v10zm4 0h-2v-4h2v4z\"/>\n",
              "    </g>\n",
              "</svg>\n",
              "      </button>\n",
              "\n",
              "<style>\n",
              "  .colab-df-quickchart {\n",
              "      --bg-color: #E8F0FE;\n",
              "      --fill-color: #1967D2;\n",
              "      --hover-bg-color: #E2EBFA;\n",
              "      --hover-fill-color: #174EA6;\n",
              "      --disabled-fill-color: #AAA;\n",
              "      --disabled-bg-color: #DDD;\n",
              "  }\n",
              "\n",
              "  [theme=dark] .colab-df-quickchart {\n",
              "      --bg-color: #3B4455;\n",
              "      --fill-color: #D2E3FC;\n",
              "      --hover-bg-color: #434B5C;\n",
              "      --hover-fill-color: #FFFFFF;\n",
              "      --disabled-bg-color: #3B4455;\n",
              "      --disabled-fill-color: #666;\n",
              "  }\n",
              "\n",
              "  .colab-df-quickchart {\n",
              "    background-color: var(--bg-color);\n",
              "    border: none;\n",
              "    border-radius: 50%;\n",
              "    cursor: pointer;\n",
              "    display: none;\n",
              "    fill: var(--fill-color);\n",
              "    height: 32px;\n",
              "    padding: 0;\n",
              "    width: 32px;\n",
              "  }\n",
              "\n",
              "  .colab-df-quickchart:hover {\n",
              "    background-color: var(--hover-bg-color);\n",
              "    box-shadow: 0 1px 2px rgba(60, 64, 67, 0.3), 0 1px 3px 1px rgba(60, 64, 67, 0.15);\n",
              "    fill: var(--button-hover-fill-color);\n",
              "  }\n",
              "\n",
              "  .colab-df-quickchart-complete:disabled,\n",
              "  .colab-df-quickchart-complete:disabled:hover {\n",
              "    background-color: var(--disabled-bg-color);\n",
              "    fill: var(--disabled-fill-color);\n",
              "    box-shadow: none;\n",
              "  }\n",
              "\n",
              "  .colab-df-spinner {\n",
              "    border: 2px solid var(--fill-color);\n",
              "    border-color: transparent;\n",
              "    border-bottom-color: var(--fill-color);\n",
              "    animation:\n",
              "      spin 1s steps(1) infinite;\n",
              "  }\n",
              "\n",
              "  @keyframes spin {\n",
              "    0% {\n",
              "      border-color: transparent;\n",
              "      border-bottom-color: var(--fill-color);\n",
              "      border-left-color: var(--fill-color);\n",
              "    }\n",
              "    20% {\n",
              "      border-color: transparent;\n",
              "      border-left-color: var(--fill-color);\n",
              "      border-top-color: var(--fill-color);\n",
              "    }\n",
              "    30% {\n",
              "      border-color: transparent;\n",
              "      border-left-color: var(--fill-color);\n",
              "      border-top-color: var(--fill-color);\n",
              "      border-right-color: var(--fill-color);\n",
              "    }\n",
              "    40% {\n",
              "      border-color: transparent;\n",
              "      border-right-color: var(--fill-color);\n",
              "      border-top-color: var(--fill-color);\n",
              "    }\n",
              "    60% {\n",
              "      border-color: transparent;\n",
              "      border-right-color: var(--fill-color);\n",
              "    }\n",
              "    80% {\n",
              "      border-color: transparent;\n",
              "      border-right-color: var(--fill-color);\n",
              "      border-bottom-color: var(--fill-color);\n",
              "    }\n",
              "    90% {\n",
              "      border-color: transparent;\n",
              "      border-bottom-color: var(--fill-color);\n",
              "    }\n",
              "  }\n",
              "</style>\n",
              "\n",
              "      <script>\n",
              "        async function quickchart(key) {\n",
              "          const quickchartButtonEl =\n",
              "            document.querySelector('#' + key + ' button');\n",
              "          quickchartButtonEl.disabled = true;  // To prevent multiple clicks.\n",
              "          quickchartButtonEl.classList.add('colab-df-spinner');\n",
              "          try {\n",
              "            const charts = await google.colab.kernel.invokeFunction(\n",
              "                'suggestCharts', [key], {});\n",
              "          } catch (error) {\n",
              "            console.error('Error during call to suggestCharts:', error);\n",
              "          }\n",
              "          quickchartButtonEl.classList.remove('colab-df-spinner');\n",
              "          quickchartButtonEl.classList.add('colab-df-quickchart-complete');\n",
              "        }\n",
              "        (() => {\n",
              "          let quickchartButtonEl =\n",
              "            document.querySelector('#df-fa337c19-10ca-44c6-881d-537158574e28 button');\n",
              "          quickchartButtonEl.style.display =\n",
              "            google.colab.kernel.accessAllowed ? 'block' : 'none';\n",
              "        })();\n",
              "      </script>\n",
              "    </div>\n",
              "\n",
              "    </div>\n",
              "  </div>\n"
            ],
            "application/vnd.google.colaboratory.intrinsic+json": {
              "type": "dataframe",
              "summary": "{\n  \"name\": \"df\",\n  \"rows\": 8,\n  \"fields\": [\n    {\n      \"column\": \"temperature\",\n      \"properties\": {\n        \"dtype\": \"number\",\n        \"std\": 3527.0075958602847,\n        \"min\": 5.387998741908287,\n        \"max\": 10000.0,\n        \"num_unique_values\": 8,\n        \"samples\": [\n          25.61219082591608,\n          25.293238151367625,\n          10000.0\n        ],\n        \"semantic_type\": \"\",\n        \"description\": \"\"\n      }\n    },\n    {\n      \"column\": \"humidity\",\n      \"properties\": {\n        \"dtype\": \"number\",\n        \"std\": 3516.104450240422,\n        \"min\": 6.244208998223996,\n        \"max\": 10000.0,\n        \"num_unique_values\": 8,\n        \"samples\": [\n          62.11929985916333,\n          72.21175203165058,\n          10000.0\n        ],\n        \"semantic_type\": \"\",\n        \"description\": \"\"\n      }\n    },\n    {\n      \"column\": \"rainfall\",\n      \"properties\": {\n        \"dtype\": \"number\",\n        \"std\": 3529.204265550448,\n        \"min\": 5.5366910654394576e-05,\n        \"max\": 10000.0,\n        \"num_unique_values\": 8,\n        \"samples\": [\n          9.807522496936294,\n          6.86489803388032,\n          10000.0\n        ],\n        \"semantic_type\": \"\",\n        \"description\": \"\"\n      }\n    },\n    {\n      \"column\": \"soil_pH\",\n      \"properties\": {\n        \"dtype\": \"number\",\n        \"std\": 3533.5754051065387,\n        \"min\": 1.3024647380243861,\n        \"max\": 10000.0,\n        \"num_unique_values\": 8,\n        \"samples\": [\n          6.245854917583351,\n          6.232188431311367,\n          10000.0\n        ],\n        \"semantic_type\": \"\",\n        \"description\": \"\"\n      }\n    },\n    {\n      \"column\": \"disease_present\",\n      \"properties\": {\n        \"dtype\": \"number\",\n        \"std\": 3535.449640300507,\n        \"min\": 0.0,\n        \"max\": 10000.0,\n        \"num_unique_values\": 5,\n        \"samples\": [\n          0.241,\n          1.0,\n          0.42771169463711217\n        ],\n        \"semantic_type\": \"\",\n        \"description\": \"\"\n      }\n    }\n  ]\n}"
            }
          },
          "metadata": {},
          "execution_count": 7
        }
      ]
    },
    {
      "cell_type": "code",
      "source": [
        "df['disease_present'].value_counts(normalize=True)"
      ],
      "metadata": {
        "colab": {
          "base_uri": "https://localhost:8080/",
          "height": 178
        },
        "id": "MccegY-rAAX9",
        "outputId": "254114b0-d2f3-4ef5-fa35-841f21267c85"
      },
      "execution_count": 8,
      "outputs": [
        {
          "output_type": "execute_result",
          "data": {
            "text/plain": [
              "disease_present\n",
              "0    0.759\n",
              "1    0.241\n",
              "Name: proportion, dtype: float64"
            ],
            "text/html": [
              "<div>\n",
              "<style scoped>\n",
              "    .dataframe tbody tr th:only-of-type {\n",
              "        vertical-align: middle;\n",
              "    }\n",
              "\n",
              "    .dataframe tbody tr th {\n",
              "        vertical-align: top;\n",
              "    }\n",
              "\n",
              "    .dataframe thead th {\n",
              "        text-align: right;\n",
              "    }\n",
              "</style>\n",
              "<table border=\"1\" class=\"dataframe\">\n",
              "  <thead>\n",
              "    <tr style=\"text-align: right;\">\n",
              "      <th></th>\n",
              "      <th>proportion</th>\n",
              "    </tr>\n",
              "    <tr>\n",
              "      <th>disease_present</th>\n",
              "      <th></th>\n",
              "    </tr>\n",
              "  </thead>\n",
              "  <tbody>\n",
              "    <tr>\n",
              "      <th>0</th>\n",
              "      <td>0.759</td>\n",
              "    </tr>\n",
              "    <tr>\n",
              "      <th>1</th>\n",
              "      <td>0.241</td>\n",
              "    </tr>\n",
              "  </tbody>\n",
              "</table>\n",
              "</div><br><label><b>dtype:</b> float64</label>"
            ]
          },
          "metadata": {},
          "execution_count": 8
        }
      ]
    },
    {
      "cell_type": "code",
      "source": [
        "X = df.drop('disease_present', axis=1)\n",
        "y = df['disease_present']\n",
        "\n",
        "X = torch.from_numpy(X.to_numpy()).type(torch.float).to(device)\n",
        "y = torch.from_numpy(y.to_numpy()).type(torch.float).to(device)\n",
        "\n",
        "from sklearn.model_selection import train_test_split\n",
        "\n",
        "X_train, X_test, y_train, y_test = train_test_split(X, y, test_size=0.2, random_state=42)"
      ],
      "metadata": {
        "id": "gCIugsAmDsfv"
      },
      "execution_count": 9,
      "outputs": []
    },
    {
      "cell_type": "code",
      "source": [
        "\n",
        "class Model(nn.Module):\n",
        "  def __init__(self):\n",
        "    super().__init__()\n",
        "    self.fc1 = nn.Linear(4, 64)\n",
        "    self.fc2 = nn.Linear(64, 128)\n",
        "    self.fc3 = nn.Linear(128, 1)\n",
        "\n",
        "  def forward(self, x):\n",
        "    x = F.relu(self.fc1(x))\n",
        "    x = self.fc2(x)\n",
        "    x = self.fc3(x)\n",
        "    return x"
      ],
      "metadata": {
        "id": "-kbnGlw9AniS"
      },
      "execution_count": 31,
      "outputs": []
    },
    {
      "cell_type": "code",
      "source": [
        "model_0 = Model().to(device)\n",
        "\n",
        "# Create the loss function\n",
        "loss_fn = nn.BCEWithLogitsLoss() # nn.BCELoss() for binary classification\n",
        "\n",
        "# Create the optimizer\n",
        "optimizer = torch.optim.SGD(params=model_0.parameters(), # parameters of target model to optimize\n",
        "                            lr=0.01) # learning rate (how much the optimizer should change parameters at each step, higher=more (less stable), lower=less (might take a long time))"
      ],
      "metadata": {
        "id": "FJlLVQj_A4_1"
      },
      "execution_count": 32,
      "outputs": []
    },
    {
      "cell_type": "code",
      "source": [
        "# Calculate accuracy (a classification metric)\n",
        "def accuracy_fn(y_true, y_pred):\n",
        "    correct = torch.eq(y_true, y_pred).sum().item() # torch.eq() calculates where two tensors are equal\n",
        "    acc = (correct / len(y_pred)) * 100\n",
        "    return acc"
      ],
      "metadata": {
        "id": "cXKCFQEdKwGe"
      },
      "execution_count": 33,
      "outputs": []
    },
    {
      "cell_type": "code",
      "source": [
        "def run_model():\n",
        "  torch.manual_seed(42)\n",
        "\n",
        "  # Set the number of epochs (how many times the model will pass over the training data)\n",
        "  epochs = 1000\n",
        "\n",
        "  # Create empty loss lists to track values\n",
        "  train_loss_values = []\n",
        "  test_loss_values = []\n",
        "  epoch_count = []\n",
        "\n",
        "  for epoch in range(epochs):\n",
        "      ### Training\n",
        "\n",
        "      # Put model in training mode (this is the default state of a model)\n",
        "      model_0.train()\n",
        "\n",
        "      # 1. Forward pass (model outputs raw logits)\n",
        "      y_logits = model_0(X_train).squeeze() # squeeze to remove extra `1` dimensions, this won't work unless model and data are on same device\n",
        "      y_pred = torch.round(torch.sigmoid(y_logits)) # turn logits -> pred probs -> pred labls\n",
        "\n",
        "      # 2. Calculate loss/accuracy\n",
        "      # loss = loss_fn(torch.sigmoid(y_logits), # Using nn.BCELoss you need torch.sigmoid()\n",
        "      #                y_train)\n",
        "      loss = loss_fn(y_logits, # Using nn.BCEWithLogitsLoss works with raw logits\n",
        "                    y_train)\n",
        "      acc = accuracy_fn(y_true=y_train,\n",
        "                        y_pred=y_pred)\n",
        "\n",
        "      # 3. Zero grad of the optimizer\n",
        "      optimizer.zero_grad()\n",
        "\n",
        "      # 4. Loss backwards\n",
        "      loss.backward()\n",
        "\n",
        "      # 5. Progress the optimizer\n",
        "      optimizer.step()\n",
        "\n",
        "      ### Testing\n",
        "\n",
        "      # Put the model in evaluation mode\n",
        "      model_0.eval()\n",
        "\n",
        "      with torch.inference_mode():\n",
        "        # 1. Forward pass\n",
        "        test_logits = model_0(X_test).squeeze()\n",
        "        test_pred = torch.round(torch.sigmoid(test_logits))\n",
        "        # 2. Caculate loss/accuracy\n",
        "        test_loss = loss_fn(test_logits,\n",
        "                            y_test)\n",
        "        test_acc = accuracy_fn(y_true=y_test,\n",
        "                                y_pred=test_pred)\n",
        "\n",
        "      # Print out what's happening every 10 epochs\n",
        "      if epoch % 100 == 0:\n",
        "          print(f\"Epoch: {epoch} | Loss: {loss:.5f}, Accuracy: {acc:.2f}% | Test loss: {test_loss:.5f}, Test acc: {test_acc:.2f}%\")\n",
        "\n",
        "  print(classification_report(y_test.cpu(), test_pred.cpu()))"
      ],
      "metadata": {
        "id": "7X6lktk0BT2T"
      },
      "execution_count": 34,
      "outputs": []
    },
    {
      "cell_type": "code",
      "source": [
        "run_model()"
      ],
      "metadata": {
        "colab": {
          "base_uri": "https://localhost:8080/"
        },
        "id": "8euKahqv0-hV",
        "outputId": "30d7bca4-6467-46fb-ad97-5a8dd997b9c9"
      },
      "execution_count": 35,
      "outputs": [
        {
          "output_type": "stream",
          "name": "stdout",
          "text": [
            "Epoch: 0 | Loss: 0.69590, Accuracy: 50.36% | Test loss: 0.69823, Test acc: 48.55%\n",
            "Epoch: 100 | Loss: 0.69262, Accuracy: 50.36% | Test loss: 0.69354, Test acc: 48.55%\n",
            "Epoch: 200 | Loss: 0.69078, Accuracy: 55.31% | Test loss: 0.69142, Test acc: 53.03%\n",
            "Epoch: 300 | Loss: 0.68906, Accuracy: 59.28% | Test loss: 0.68968, Test acc: 57.25%\n",
            "Epoch: 400 | Loss: 0.68736, Accuracy: 61.21% | Test loss: 0.68802, Test acc: 59.85%\n",
            "Epoch: 500 | Loss: 0.68566, Accuracy: 61.95% | Test loss: 0.68638, Test acc: 61.00%\n",
            "Epoch: 600 | Loss: 0.68395, Accuracy: 62.81% | Test loss: 0.68473, Test acc: 61.76%\n",
            "Epoch: 700 | Loss: 0.68221, Accuracy: 63.54% | Test loss: 0.68305, Test acc: 62.35%\n",
            "Epoch: 800 | Loss: 0.68043, Accuracy: 63.92% | Test loss: 0.68134, Test acc: 63.01%\n",
            "Epoch: 900 | Loss: 0.67861, Accuracy: 64.48% | Test loss: 0.67959, Test acc: 63.64%\n",
            "              precision    recall  f1-score   support\n",
            "\n",
            "         0.0       0.71      0.51      0.59      1562\n",
            "         1.0       0.60      0.78      0.68      1474\n",
            "\n",
            "    accuracy                           0.64      3036\n",
            "   macro avg       0.66      0.65      0.64      3036\n",
            "weighted avg       0.66      0.64      0.64      3036\n",
            "\n"
          ]
        }
      ]
    },
    {
      "cell_type": "code",
      "source": [
        "X = df.drop('disease_present', axis=1)\n",
        "y = df['disease_present']\n",
        "\n",
        "from sklearn.model_selection import train_test_split\n",
        "\n",
        "X_train, X_test, y_train, y_test = train_test_split(X, y, test_size=0.2, random_state=42)"
      ],
      "metadata": {
        "id": "iinZDnvRBgZ0"
      },
      "execution_count": 36,
      "outputs": []
    },
    {
      "cell_type": "code",
      "source": [
        "import xgboost as xgb"
      ],
      "metadata": {
        "id": "FHzC0xuxOdva"
      },
      "execution_count": 37,
      "outputs": []
    },
    {
      "cell_type": "code",
      "source": [
        "xgb_model = xgb.XGBClassifier(random_state=42)\n",
        "\n",
        "xgb_model.fit(X_train, y_train)\n",
        "\n",
        "y_pred = xgb_model.predict(X_test)"
      ],
      "metadata": {
        "id": "anlwbo1TOq9v"
      },
      "execution_count": 38,
      "outputs": []
    },
    {
      "cell_type": "code",
      "source": [
        "print(classification_report(y_test, y_pred))"
      ],
      "metadata": {
        "id": "h1Lvbr7hPYhq",
        "colab": {
          "base_uri": "https://localhost:8080/"
        },
        "outputId": "80f84a33-b6bc-4abc-d68b-01fa2859e48c"
      },
      "execution_count": 39,
      "outputs": [
        {
          "output_type": "stream",
          "name": "stdout",
          "text": [
            "              precision    recall  f1-score   support\n",
            "\n",
            "           0       0.87      0.95      0.91      1518\n",
            "           1       0.77      0.56      0.65       482\n",
            "\n",
            "    accuracy                           0.85      2000\n",
            "   macro avg       0.82      0.75      0.78      2000\n",
            "weighted avg       0.85      0.85      0.84      2000\n",
            "\n"
          ]
        }
      ]
    },
    {
      "cell_type": "code",
      "source": [
        "from sklearn.metrics import confusion_matrix, ConfusionMatrixDisplay\n",
        "from matplotlib import pyplot as plt"
      ],
      "metadata": {
        "id": "HQBYM-OsPfTW"
      },
      "execution_count": 40,
      "outputs": []
    },
    {
      "cell_type": "code",
      "source": [
        "cm = confusion_matrix(y_test, y_pred)"
      ],
      "metadata": {
        "id": "04du5i2CPnsD"
      },
      "execution_count": 41,
      "outputs": []
    },
    {
      "cell_type": "code",
      "source": [
        "disp = ConfusionMatrixDisplay(confusion_matrix=cm)\n",
        "disp.plot(cmap='Blues')\n",
        "plt.title(\"Confusion Matrix\")\n",
        "plt.show()"
      ],
      "metadata": {
        "id": "w6v3dfHSPtql",
        "colab": {
          "base_uri": "https://localhost:8080/",
          "height": 472
        },
        "outputId": "fc2276c8-0e96-4235-cd37-93b6d41ebfe6"
      },
      "execution_count": 42,
      "outputs": [
        {
          "output_type": "display_data",
          "data": {
            "text/plain": [
              "<Figure size 640x480 with 2 Axes>"
            ],
            "image/png": "[encoded data removed]"
          },
          "metadata": {}
        }
      ]
    },
    {
      "cell_type": "code",
      "source": [
        "from imblearn.over_sampling import SMOTE"
      ],
      "metadata": {
        "id": "VismHyq9P7Vz"
      },
      "execution_count": 43,
      "outputs": []
    },
    {
      "cell_type": "code",
      "source": [
        "X = df.drop('disease_present', axis=1)\n",
        "y = df['disease_present']\n",
        "\n",
        "smote = SMOTE(random_state=42)\n",
        "X_resampled, y_resampled = smote.fit_resample(X, y)"
      ],
      "metadata": {
        "id": "I3D8jMIyQYk6"
      },
      "execution_count": 44,
      "outputs": []
    },
    {
      "cell_type": "code",
      "source": [
        "X_resampled = torch.from_numpy(X_resampled.to_numpy()).type(torch.float).to(device)\n",
        "y_resampled = torch.from_numpy(y_resampled.to_numpy()).type(torch.float).to(device)\n",
        "\n",
        "from sklearn.model_selection import train_test_split\n",
        "\n",
        "X_train, X_test, y_train, y_test = train_test_split(X_resampled, y_resampled, test_size=0.2, random_state=42)"
      ],
      "metadata": {
        "id": "dWqeeRoFQbOw"
      },
      "execution_count": 45,
      "outputs": []
    },
    {
      "cell_type": "code",
      "source": [
        "run_model()"
      ],
      "metadata": {
        "id": "51V3ki2AQgNb",
        "colab": {
          "base_uri": "https://localhost:8080/"
        },
        "outputId": "b2dd8992-2cbd-4e9c-b4a8-6c753879f119"
      },
      "execution_count": 46,
      "outputs": [
        {
          "output_type": "stream",
          "name": "stdout",
          "text": [
            "Epoch: 0 | Loss: 5.11782, Accuracy: 50.39% | Test loss: 18.93764, Test acc: 51.45%\n",
            "Epoch: 100 | Loss: 0.65523, Accuracy: 62.66% | Test loss: 0.65310, Test acc: 61.46%\n",
            "Epoch: 200 | Loss: 0.62824, Accuracy: 65.86% | Test loss: 0.63194, Test acc: 64.30%\n",
            "Epoch: 300 | Loss: 0.62436, Accuracy: 66.59% | Test loss: 0.62865, Test acc: 64.89%\n",
            "Epoch: 400 | Loss: 0.62324, Accuracy: 66.86% | Test loss: 0.62718, Test acc: 65.35%\n",
            "Epoch: 500 | Loss: 0.62228, Accuracy: 67.05% | Test loss: 0.62590, Test acc: 65.55%\n",
            "Epoch: 600 | Loss: 0.62112, Accuracy: 67.11% | Test loss: 0.62454, Test acc: 65.88%\n",
            "Epoch: 700 | Loss: 0.61999, Accuracy: 67.13% | Test loss: 0.62326, Test acc: 66.07%\n",
            "Epoch: 800 | Loss: 0.61884, Accuracy: 67.24% | Test loss: 0.62203, Test acc: 66.30%\n",
            "Epoch: 900 | Loss: 0.61814, Accuracy: 67.33% | Test loss: 0.62109, Test acc: 66.17%\n",
            "              precision    recall  f1-score   support\n",
            "\n",
            "         0.0       0.73      0.54      0.62      1562\n",
            "         1.0       0.62      0.79      0.69      1474\n",
            "\n",
            "    accuracy                           0.66      3036\n",
            "   macro avg       0.67      0.66      0.66      3036\n",
            "weighted avg       0.68      0.66      0.65      3036\n",
            "\n"
          ]
        }
      ]
    },
    {
      "cell_type": "code",
      "source": [
        "from sklearn.preprocessing import MinMaxScaler\n",
        "\n",
        "X = df.drop('disease_present', axis=1)\n",
        "y = df['disease_present']\n",
        "\n",
        "smote = SMOTE(random_state=42)\n",
        "X_resampled, y_resampled = smote.fit_resample(X, y)\n",
        "\n",
        "scaler = MinMaxScaler()\n",
        "X_scaled = scaler.fit_transform(X_resampled)\n",
        "y_resampled = torch.from_numpy(y_resampled.to_numpy()).type(torch.float).to(device)\n",
        "X_resampled = torch.from_numpy(X_scaled).type(torch.float).to(device)\n",
        "\n",
        "X_train, X_test, y_train, y_test = train_test_split(X_resampled, y_resampled, test_size=0.2, random_state=42)"
      ],
      "metadata": {
        "id": "4aEZRXl5Qu26"
      },
      "execution_count": 47,
      "outputs": []
    },
    {
      "cell_type": "code",
      "source": [
        "run_model()"
      ],
      "metadata": {
        "colab": {
          "base_uri": "https://localhost:8080/"
        },
        "id": "8D8A6JMERct8",
        "outputId": "0becb10e-3ad0-4fdb-8c7f-1bbbafce0971"
      },
      "execution_count": 48,
      "outputs": [
        {
          "output_type": "stream",
          "name": "stdout",
          "text": [
            "Epoch: 0 | Loss: 0.69272, Accuracy: 49.64% | Test loss: 0.68965, Test acc: 51.45%\n",
            "Epoch: 100 | Loss: 0.68774, Accuracy: 49.58% | Test loss: 0.68676, Test acc: 51.42%\n",
            "Epoch: 200 | Loss: 0.68570, Accuracy: 62.16% | Test loss: 0.68558, Test acc: 63.27%\n",
            "Epoch: 300 | Loss: 0.68409, Accuracy: 64.25% | Test loss: 0.68435, Test acc: 64.69%\n",
            "Epoch: 400 | Loss: 0.68250, Accuracy: 64.12% | Test loss: 0.68296, Test acc: 64.30%\n",
            "Epoch: 500 | Loss: 0.68086, Accuracy: 64.08% | Test loss: 0.68144, Test acc: 64.33%\n",
            "Epoch: 600 | Loss: 0.67914, Accuracy: 64.39% | Test loss: 0.67982, Test acc: 64.33%\n",
            "Epoch: 700 | Loss: 0.67735, Accuracy: 64.78% | Test loss: 0.67811, Test acc: 64.59%\n",
            "Epoch: 800 | Loss: 0.67545, Accuracy: 65.04% | Test loss: 0.67630, Test acc: 64.62%\n",
            "Epoch: 900 | Loss: 0.67347, Accuracy: 65.28% | Test loss: 0.67441, Test acc: 64.76%\n",
            "              precision    recall  f1-score   support\n",
            "\n",
            "         0.0       0.69      0.58      0.63      1562\n",
            "         1.0       0.62      0.73      0.67      1474\n",
            "\n",
            "    accuracy                           0.65      3036\n",
            "   macro avg       0.66      0.65      0.65      3036\n",
            "weighted avg       0.66      0.65      0.65      3036\n",
            "\n"
          ]
        }
      ]
    },
    {
      "cell_type": "code",
      "source": [],
      "metadata": {
        "id": "2DMQVQx0RltJ"
      },
      "execution_count": null,
      "outputs": []
    }
  ]
}