{
  "nbformat": 4,
  "nbformat_minor": 0,
  "metadata": {
    "colab": {
      "provenance": [],
      "authorship_tag": "ABX9TyNLs5ca/6z9SfefJOdtNa5s",
      "include_colab_link": true
    },
    "kernelspec": {
      "name": "python3",
      "display_name": "Python 3"
    },
    "language_info": {
      "name": "python"
    }
  },
  "cells": [
    {
      "cell_type": "markdown",
      "metadata": {
        "id": "view-in-github",
        "colab_type": "text"
      },
      "source": [
        "<a href=\"https://colab.research.google.com/github/GusdPaula/ML_interview/blob/main/attention_mechanism.ipynb\" target=\"_parent\"><img src=\"https://colab.research.google.com/assets/colab-badge.svg\" alt=\"Open In Colab\"/></a>"
      ]
    },
    {
      "cell_type": "markdown",
      "source": [
        "## Attention mechanism"
      ],
      "metadata": {
        "id": "StijoGr2FQXA"
      }
    },
    {
      "cell_type": "code",
      "execution_count": 1,
      "metadata": {
        "colab": {
          "base_uri": "https://localhost:8080/"
        },
        "id": "TTcDC37XFOEB",
        "outputId": "73c5ba62-1c6b-4a14-8c9e-de381c02ebed"
      },
      "outputs": [
        {
          "output_type": "stream",
          "name": "stdout",
          "text": [
            "Query (Q):\n",
            "[[1 0 1]]\n",
            "\n",
            "Key Vectors (K):\n",
            "[[1 1 0]\n",
            " [1 1 0]\n",
            " [0 0 1]]\n",
            "\n",
            "Value Vectors (V):\n",
            "[[1 2]\n",
            " [0 3]\n",
            " [1 1]]\n",
            "\n",
            "Attention Weights:\n",
            "[[0.33333333 0.33333333 0.33333333]]\n",
            "\n",
            "Scaled Scores:\n",
            "[[0.57735027 0.57735027 0.57735027]]\n",
            "\n",
            "Output:\n",
            "[[0.66666667 2.        ]]\n"
          ]
        }
      ],
      "source": [
        "import numpy as np\n",
        "\n",
        "# Step 1: Define Query(Q), Key (K), and Value (V) matrices\n",
        "Q = np.array([[1, 0, 1]]) # Query vector (1x3)\n",
        "K = np.array([[1, 1, 0], [1, 1, 0], [0, 0, 1]]) # Key vectors (3x3)\n",
        "V = np.array([[1, 2],\n",
        "              [0, 3],\n",
        "              [1, 1]]) # Value vectors (3x2)\n",
        "\n",
        "# Step 2: Compute dot product between Q and K^T (similarity scores)\n",
        "scores = np.dot(Q, K.T)\n",
        "\n",
        "# Step 3: Scale the scores (optinional but common)\n",
        "dk = Q.shape[1] # dimension of key vectors\n",
        "scaled_scores = scores / np.sqrt(dk)\n",
        "\n",
        "# Step 4: Compute softmax to get attention weights\n",
        "attention_weights = np.exp(scaled_scores) / np.sum(np.exp(scaled_scores), axis=1, keepdims=True)\n",
        "\n",
        "# Step 5: Multitly attention weights with values matrix to get output\n",
        "output = np.dot(attention_weights, V)\n",
        "\n",
        "# Display results\n",
        "print(\"Query (Q):\")\n",
        "print(Q)\n",
        "print(\"\\nKey Vectors (K):\")\n",
        "print(K)\n",
        "print(\"\\nValue Vectors (V):\")\n",
        "print(V)\n",
        "print(\"\\nAttention Weights:\")\n",
        "print(attention_weights)\n",
        "print(\"\\nScaled Scores:\")\n",
        "print(scaled_scores)\n",
        "print(\"\\nOutput:\")\n",
        "print(output)"
      ]
    },
    {
      "cell_type": "code",
      "source": [],
      "metadata": {
        "id": "mJ3rXuUEFUz1"
      },
      "execution_count": null,
      "outputs": []
    }
  ]
}